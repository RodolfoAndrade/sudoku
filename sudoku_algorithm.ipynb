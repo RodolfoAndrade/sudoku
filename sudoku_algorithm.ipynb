{
 "cells": [
  {
   "cell_type": "code",
   "execution_count": 3,
   "metadata": {},
   "outputs": [],
   "source": [
    "import pandas as pd\n",
    "import numpy as np\n",
    "import time"
   ]
  },
  {
   "cell_type": "code",
   "execution_count": 4,
   "metadata": {},
   "outputs": [
    {
     "name": "stdout",
     "output_type": "stream",
     "text": [
      "(1000000, 2)\n"
     ]
    }
   ],
   "source": [
    "dt = pd.read_csv(\"sudoku_dataset/sudoku.csv\")\n",
    "print(dt.shape)"
   ]
  },
  {
   "cell_type": "code",
   "execution_count": 5,
   "metadata": {},
   "outputs": [],
   "source": [
    "def create_dataframe(string):\n",
    "    array = list(string)\n",
    "    reshaped = np.reshape(array, (9,9))\n",
    "    return pd.DataFrame(reshaped)"
   ]
  },
  {
   "cell_type": "code",
   "execution_count": 7,
   "metadata": {},
   "outputs": [
    {
     "name": "stdout",
     "output_type": "stream",
     "text": [
      "quiz\n"
     ]
    },
    {
     "data": {
      "text/html": [
       "<div>\n",
       "<style scoped>\n",
       "    .dataframe tbody tr th:only-of-type {\n",
       "        vertical-align: middle;\n",
       "    }\n",
       "\n",
       "    .dataframe tbody tr th {\n",
       "        vertical-align: top;\n",
       "    }\n",
       "\n",
       "    .dataframe thead th {\n",
       "        text-align: right;\n",
       "    }\n",
       "</style>\n",
       "<table border=\"1\" class=\"dataframe\">\n",
       "  <thead>\n",
       "    <tr style=\"text-align: right;\">\n",
       "      <th></th>\n",
       "      <th>0</th>\n",
       "      <th>1</th>\n",
       "      <th>2</th>\n",
       "      <th>3</th>\n",
       "      <th>4</th>\n",
       "      <th>5</th>\n",
       "      <th>6</th>\n",
       "      <th>7</th>\n",
       "      <th>8</th>\n",
       "    </tr>\n",
       "  </thead>\n",
       "  <tbody>\n",
       "    <tr>\n",
       "      <th>0</th>\n",
       "      <td>0</td>\n",
       "      <td>0</td>\n",
       "      <td>4</td>\n",
       "      <td>3</td>\n",
       "      <td>0</td>\n",
       "      <td>0</td>\n",
       "      <td>2</td>\n",
       "      <td>0</td>\n",
       "      <td>9</td>\n",
       "    </tr>\n",
       "    <tr>\n",
       "      <th>1</th>\n",
       "      <td>0</td>\n",
       "      <td>0</td>\n",
       "      <td>5</td>\n",
       "      <td>0</td>\n",
       "      <td>0</td>\n",
       "      <td>9</td>\n",
       "      <td>0</td>\n",
       "      <td>0</td>\n",
       "      <td>1</td>\n",
       "    </tr>\n",
       "    <tr>\n",
       "      <th>2</th>\n",
       "      <td>0</td>\n",
       "      <td>7</td>\n",
       "      <td>0</td>\n",
       "      <td>0</td>\n",
       "      <td>6</td>\n",
       "      <td>0</td>\n",
       "      <td>0</td>\n",
       "      <td>4</td>\n",
       "      <td>3</td>\n",
       "    </tr>\n",
       "    <tr>\n",
       "      <th>3</th>\n",
       "      <td>0</td>\n",
       "      <td>0</td>\n",
       "      <td>6</td>\n",
       "      <td>0</td>\n",
       "      <td>0</td>\n",
       "      <td>2</td>\n",
       "      <td>0</td>\n",
       "      <td>8</td>\n",
       "      <td>7</td>\n",
       "    </tr>\n",
       "    <tr>\n",
       "      <th>4</th>\n",
       "      <td>1</td>\n",
       "      <td>9</td>\n",
       "      <td>0</td>\n",
       "      <td>0</td>\n",
       "      <td>0</td>\n",
       "      <td>7</td>\n",
       "      <td>4</td>\n",
       "      <td>0</td>\n",
       "      <td>0</td>\n",
       "    </tr>\n",
       "    <tr>\n",
       "      <th>5</th>\n",
       "      <td>0</td>\n",
       "      <td>5</td>\n",
       "      <td>0</td>\n",
       "      <td>0</td>\n",
       "      <td>8</td>\n",
       "      <td>3</td>\n",
       "      <td>0</td>\n",
       "      <td>0</td>\n",
       "      <td>0</td>\n",
       "    </tr>\n",
       "    <tr>\n",
       "      <th>6</th>\n",
       "      <td>6</td>\n",
       "      <td>0</td>\n",
       "      <td>0</td>\n",
       "      <td>0</td>\n",
       "      <td>0</td>\n",
       "      <td>0</td>\n",
       "      <td>1</td>\n",
       "      <td>0</td>\n",
       "      <td>5</td>\n",
       "    </tr>\n",
       "    <tr>\n",
       "      <th>7</th>\n",
       "      <td>0</td>\n",
       "      <td>0</td>\n",
       "      <td>3</td>\n",
       "      <td>5</td>\n",
       "      <td>0</td>\n",
       "      <td>8</td>\n",
       "      <td>6</td>\n",
       "      <td>9</td>\n",
       "      <td>0</td>\n",
       "    </tr>\n",
       "    <tr>\n",
       "      <th>8</th>\n",
       "      <td>0</td>\n",
       "      <td>4</td>\n",
       "      <td>2</td>\n",
       "      <td>9</td>\n",
       "      <td>1</td>\n",
       "      <td>0</td>\n",
       "      <td>3</td>\n",
       "      <td>0</td>\n",
       "      <td>0</td>\n",
       "    </tr>\n",
       "  </tbody>\n",
       "</table>\n",
       "</div>"
      ],
      "text/plain": [
       "   0  1  2  3  4  5  6  7  8\n",
       "0  0  0  4  3  0  0  2  0  9\n",
       "1  0  0  5  0  0  9  0  0  1\n",
       "2  0  7  0  0  6  0  0  4  3\n",
       "3  0  0  6  0  0  2  0  8  7\n",
       "4  1  9  0  0  0  7  4  0  0\n",
       "5  0  5  0  0  8  3  0  0  0\n",
       "6  6  0  0  0  0  0  1  0  5\n",
       "7  0  0  3  5  0  8  6  9  0\n",
       "8  0  4  2  9  1  0  3  0  0"
      ]
     },
     "metadata": {},
     "output_type": "display_data"
    }
   ],
   "source": [
    "puz = create_dataframe(dt[\"quizzes\"][0])\n",
    "print(\"quiz\")\n",
    "display(puz)"
   ]
  },
  {
   "cell_type": "code",
   "execution_count": 100,
   "metadata": {},
   "outputs": [],
   "source": [
    "squares = []\n",
    "for i in range(9):\n",
    "    squares.append([])\n",
    "    for j in range(9):\n",
    "        squares[i].append([])\n",
    "#         print((i,j),3*(i//3)+j//3)\n",
    "        squares[i][j] = 3*(i//3)+j//3\n",
    "squares = np.array(squares)"
   ]
  },
  {
   "cell_type": "code",
   "execution_count": 341,
   "metadata": {},
   "outputs": [],
   "source": [
    "# from keras.utils import to_categorical\n",
    "\n",
    "def preprocessing_data(data):\n",
    "    array = list(map(int,data))\n",
    "#     return to_categorical(array, num_classes=10)\n",
    "    return array"
   ]
  },
  {
   "cell_type": "code",
   "execution_count": 356,
   "metadata": {},
   "outputs": [],
   "source": [
    "#create possibilities vetor\n",
    "possibilities = ['1','2','3','4','5','6','7','8','9']\n",
    "\n",
    "new_data_x = []\n",
    "\n",
    "for idx in range(4000):\n",
    "    new_data_x.append([])\n",
    "    \n",
    "    string = dt[\"quizzes\"][idx]\n",
    "    array = list(string)\n",
    "    reshaped = np.reshape(array, (9,9))\n",
    "    zeros = np.argwhere(reshaped=='0')\n",
    "\n",
    "    string = dt[\"solutions\"][idx]\n",
    "    array = list(string)\n",
    "    solution = np.reshape(array, (9,9))\n",
    "\n",
    "    steps = 0\n",
    "    while len(zeros) > 0 and steps<10:\n",
    "        new_data_x[idx].append(preprocessing_data(np.reshape(reshaped.copy(), (-1))))\n",
    "        \n",
    "        map_possibilities = [[] for x in range(zeros.shape[0])]\n",
    "\n",
    "        for i,j in enumerate(zeros):\n",
    "            copy_possibilities = possibilities.copy()\n",
    "        #             print(reshaped[i], i, '1' in reshaped[i])\n",
    "            for k in possibilities:\n",
    "                if k in reshaped[j[0]] or k in reshaped[:,j[1]] or k in reshaped[np.where(squares==3*(j[0]//3)+j[1]//3)]:\n",
    "                    copy_possibilities.remove(k)\n",
    "        #             print(copy_possibilities)\n",
    "            map_possibilities[i] = copy_possibilities\n",
    "\n",
    "        for i,j in enumerate(zeros):\n",
    "            if len(map_possibilities[i])==1:\n",
    "    #             print(map_possibilities[i], j)\n",
    "                reshaped[tuple(j)] = map_possibilities[i][0]\n",
    "                if reshaped[tuple(j)]!=solution[tuple(j)]:\n",
    "                    print(\"not right\")\n",
    "\n",
    "        zeros = np.argwhere(reshaped=='0')\n",
    "        steps += 1\n",
    "\n",
    "    for i in range(10-steps):\n",
    "        new_data_x[idx].append(preprocessing_data(np.reshape(reshaped.copy(), (-1))))\n",
    "    # print(array)\n",
    "    # print(solution)\n",
    "#     print(steps)\n",
    "    # print(len(zeros))\n",
    "#     print(np.array_equal(reshaped,solution))"
   ]
  },
  {
   "cell_type": "code",
   "execution_count": 283,
   "metadata": {},
   "outputs": [
    {
     "name": "stdout",
     "output_type": "stream",
     "text": [
      "['3' '4' '6' '1' '7' '9' '2' '5' '8'] ['3' '4' '6' '1' '7' '9' '2' '5' '8']\n",
      "['1' '8' '7' '5' '2' '3' '9' '6' '4'] ['1' '8' '7' '5' '2' '3' '9' '6' '4']\n",
      "['5' '2' '9' '6' '4' '8' '3' '7' '1'] ['5' '2' '9' '6' '4' '8' '3' '7' '1']\n",
      "['9' '6' '5' '8' '3' '2' '4' '1' '7'] ['9' '6' '5' '8' '3' '2' '4' '1' '7']\n",
      "['4' '7' '2' '9' '1' '6' '8' '3' '5'] ['4' '7' '2' '9' '1' '6' '8' '3' '5']\n",
      "['8' '1' '3' '7' '5' '4' '6' '2' '9'] ['8' '1' '3' '7' '5' '4' '6' '2' '9']\n",
      "['7' '9' '8' '2' '6' '1' '5' '4' '3'] ['7' '9' '8' '2' '6' '1' '5' '4' '3']\n",
      "['6' '3' '1' '4' '8' '5' '7' '9' '2'] ['6' '3' '1' '4' '8' '5' '7' '9' '2']\n",
      "['2' '5' '4' '3' '9' '7' '1' '8' '6'] ['2' '5' '4' '3' '9' '7' '1' '8' '6']\n"
     ]
    }
   ],
   "source": [
    "for i,j in zip(reshaped,solution):\n",
    "    print(i,j)"
   ]
  },
  {
   "cell_type": "code",
   "execution_count": 284,
   "metadata": {},
   "outputs": [
    {
     "data": {
      "text/plain": [
       "array([[ True,  True,  True,  True,  True,  True,  True,  True,  True],\n",
       "       [ True,  True,  True,  True,  True,  True,  True,  True,  True],\n",
       "       [ True,  True,  True,  True,  True,  True,  True,  True,  True],\n",
       "       [ True,  True,  True,  True,  True,  True,  True,  True,  True],\n",
       "       [ True,  True,  True,  True,  True,  True,  True,  True,  True],\n",
       "       [ True,  True,  True,  True,  True,  True,  True,  True,  True],\n",
       "       [ True,  True,  True,  True,  True,  True,  True,  True,  True],\n",
       "       [ True,  True,  True,  True,  True,  True,  True,  True,  True],\n",
       "       [ True,  True,  True,  True,  True,  True,  True,  True,  True]])"
      ]
     },
     "execution_count": 284,
     "metadata": {},
     "output_type": "execute_result"
    }
   ],
   "source": [
    "reshaped==solution"
   ]
  },
  {
   "cell_type": "code",
   "execution_count": 357,
   "metadata": {},
   "outputs": [
    {
     "data": {
      "text/plain": [
       "(4000, 10, 81)"
      ]
     },
     "execution_count": 357,
     "metadata": {},
     "output_type": "execute_result"
    }
   ],
   "source": [
    "new_data_x = np.array(new_data_x)\n",
    "new_data_x.shape"
   ]
  },
  {
   "cell_type": "code",
   "execution_count": 358,
   "metadata": {},
   "outputs": [],
   "source": [
    "np.save(\"new_data_x\", new_data_x)"
   ]
  }
 ],
 "metadata": {
  "kernelspec": {
   "display_name": "sudoku",
   "language": "python",
   "name": "sudoku"
  },
  "language_info": {
   "codemirror_mode": {
    "name": "ipython",
    "version": 3
   },
   "file_extension": ".py",
   "mimetype": "text/x-python",
   "name": "python",
   "nbconvert_exporter": "python",
   "pygments_lexer": "ipython3",
   "version": "3.7.1"
  }
 },
 "nbformat": 4,
 "nbformat_minor": 2
}
