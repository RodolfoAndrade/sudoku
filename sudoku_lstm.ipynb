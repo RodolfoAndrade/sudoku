{
 "cells": [
  {
   "cell_type": "code",
   "execution_count": 2,
   "metadata": {},
   "outputs": [],
   "source": [
    "import pandas as pd\n",
    "import numpy as np\n",
    "import keras\n",
    "# import matplotlib.pyplot as plt\n",
    "import time"
   ]
  },
  {
   "cell_type": "code",
   "execution_count": 76,
   "metadata": {},
   "outputs": [
    {
     "data": {
      "text/plain": [
       "(4000, 10, 81)"
      ]
     },
     "execution_count": 76,
     "metadata": {},
     "output_type": "execute_result"
    }
   ],
   "source": [
    "new_data_x = np.load(\"new_data_x.npy\")\n",
    "new_data_x.shape"
   ]
  },
  {
   "cell_type": "code",
   "execution_count": 77,
   "metadata": {},
   "outputs": [
    {
     "data": {
      "text/plain": [
       "(4000, 10, 81, 10)"
      ]
     },
     "execution_count": 77,
     "metadata": {},
     "output_type": "execute_result"
    }
   ],
   "source": [
    "from keras.utils import to_categorical\n",
    "\n",
    "new_data_x = to_categorical(new_data_x, num_classes=10)\n",
    "new_data_x.shape"
   ]
  },
  {
   "cell_type": "code",
   "execution_count": 13,
   "metadata": {},
   "outputs": [
    {
     "name": "stdout",
     "output_type": "stream",
     "text": [
      "(1000000, 2)\n"
     ]
    }
   ],
   "source": [
    "dt = pd.read_csv(\"sudoku_dataset/sudoku.csv\")\n",
    "print(dt.shape)"
   ]
  },
  {
   "cell_type": "code",
   "execution_count": 9,
   "metadata": {},
   "outputs": [],
   "source": [
    "from keras.utils import to_categorical\n",
    "\n",
    "def preprocessing_data(data):\n",
    "    array = [list(map(int,list(i))) for i in data]\n",
    "    return to_categorical(array, num_classes=10)"
   ]
  },
  {
   "cell_type": "code",
   "execution_count": 78,
   "metadata": {},
   "outputs": [],
   "source": [
    "train_size = 3900\n",
    "test_size = 100\n",
    "epochs = 10\n",
    "batch = 32"
   ]
  },
  {
   "cell_type": "code",
   "execution_count": 79,
   "metadata": {},
   "outputs": [
    {
     "data": {
      "text/plain": [
       "(4000, 10, 810)"
      ]
     },
     "execution_count": 79,
     "metadata": {},
     "output_type": "execute_result"
    }
   ],
   "source": [
    "new_data_x = np.reshape(new_data_x, (new_data_x.shape[0], new_data_x.shape[1], -1))\n",
    "new_data_x.shape"
   ]
  },
  {
   "cell_type": "code",
   "execution_count": 80,
   "metadata": {},
   "outputs": [
    {
     "name": "stdout",
     "output_type": "stream",
     "text": [
      "(3900, 10, 810)\n"
     ]
    }
   ],
   "source": [
    "x_train = new_data_x[:train_size]\n",
    "y_train = preprocessing_data(dt[\"solutions\"][:train_size])\n",
    "\n",
    "x_test = new_data_x[train_size:train_size+test_size]\n",
    "y_test = preprocessing_data(dt[\"solutions\"][train_size:train_size+test_size])\n",
    "\n",
    "print(x_train.shape)\n",
    "# print(y_train)"
   ]
  },
  {
   "cell_type": "code",
   "execution_count": 81,
   "metadata": {},
   "outputs": [
    {
     "name": "stdout",
     "output_type": "stream",
     "text": [
      "_________________________________________________________________\n",
      "Layer (type)                 Output Shape              Param #   \n",
      "=================================================================\n",
      "lstm_13 (LSTM)               (None, 810)               5252040   \n",
      "_________________________________________________________________\n",
      "dense_12 (Dense)             (None, 810)               656910    \n",
      "_________________________________________________________________\n",
      "reshape_12 (Reshape)         (None, 81, 10)            0         \n",
      "_________________________________________________________________\n",
      "activation_10 (Activation)   (None, 81, 10)            0         \n",
      "=================================================================\n",
      "Total params: 5,908,950\n",
      "Trainable params: 5,908,950\n",
      "Non-trainable params: 0\n",
      "_________________________________________________________________\n",
      "Train on 3412 samples, validate on 488 samples\n",
      "Epoch 1/10\n",
      "3412/3412 [==============================] - 368s 108ms/step - loss: 0.0622 - acc: 0.5526 - val_loss: 0.0338 - val_acc: 0.8533\n",
      "Epoch 2/10\n",
      "3412/3412 [==============================] - 332s 97ms/step - loss: 0.0171 - acc: 0.9542 - val_loss: 0.0165 - val_acc: 0.9535\n",
      "Epoch 3/10\n",
      "3412/3412 [==============================] - 325s 95ms/step - loss: 0.0056 - acc: 0.9953 - val_loss: 0.0106 - val_acc: 0.9750\n",
      "Epoch 4/10\n",
      "3412/3412 [==============================] - 321s 94ms/step - loss: 0.0021 - acc: 0.9997 - val_loss: 0.0079 - val_acc: 0.9824\n",
      "Epoch 5/10\n",
      "3412/3412 [==============================] - 323s 95ms/step - loss: 9.3184e-04 - acc: 0.9999 - val_loss: 0.0067 - val_acc: 0.9841\n",
      "Epoch 6/10\n",
      "3412/3412 [==============================] - 325s 95ms/step - loss: 5.2023e-04 - acc: 1.0000 - val_loss: 0.0062 - val_acc: 0.9842\n",
      "Epoch 7/10\n",
      "3412/3412 [==============================] - 382s 112ms/step - loss: 3.5926e-04 - acc: 1.0000 - val_loss: 0.0059 - val_acc: 0.9839\n",
      "Epoch 8/10\n",
      "3412/3412 [==============================] - 338s 99ms/step - loss: 2.7756e-04 - acc: 1.0000 - val_loss: 0.0057 - val_acc: 0.9836\n",
      "Epoch 9/10\n",
      "3412/3412 [==============================] - 377s 110ms/step - loss: 2.2486e-04 - acc: 1.0000 - val_loss: 0.0056 - val_acc: 0.9836\n",
      "Epoch 10/10\n",
      "3412/3412 [==============================] - 387s 113ms/step - loss: 1.8708e-04 - acc: 1.0000 - val_loss: 0.0054 - val_acc: 0.9835\n",
      "100/100 [==============================] - 3s 27ms/step\n",
      "[0.0049180672317743306, 0.9865432024002075]\n"
     ]
    }
   ],
   "source": [
    "from keras.models import Sequential\n",
    "from keras.layers import LSTM, Dense, Reshape, Dropout, BatchNormalization, Activation\n",
    "\n",
    "model = Sequential()\n",
    "model.add(LSTM(810, input_shape=x_train.shape[1:]))\n",
    "model.add(Dense(810))\n",
    "model.add(Reshape((81,10)))\n",
    "model.add(Activation('softmax'))\n",
    "\n",
    "model.summary()\n",
    "\n",
    "model.compile(loss='mean_squared_error',\n",
    "              optimizer='adam',\n",
    "              metrics=['accuracy'])\n",
    "\n",
    "tbCallBack = keras.callbacks.TensorBoard(log_dir='./logs/{}'.format(int(time.time())), histogram_freq=0, write_graph=True, write_images=True)\n",
    "\n",
    "history = model.fit(x_train, y_train, validation_split=0.125, epochs=epochs, batch_size=batch, callbacks=[tbCallBack])\n",
    "\n",
    "score = model.evaluate(x_test, y_test, batch_size=batch)\n",
    "print(score)"
   ]
  },
  {
   "cell_type": "code",
   "execution_count": 82,
   "metadata": {},
   "outputs": [],
   "source": [
    "x_train_1 = np.reshape(x_test[0], (1,10,810))\n",
    "y_test_1 = model.predict(x_train_1)\n",
    "y_test_1 = np.argmax(y_test_1[0], axis=1)"
   ]
  },
  {
   "cell_type": "code",
   "execution_count": 83,
   "metadata": {},
   "outputs": [
    {
     "name": "stdout",
     "output_type": "stream",
     "text": [
      "6 5\n"
     ]
    }
   ],
   "source": [
    "for i,j in zip(y_test_1,np.argmax(y_test[0], axis=1)):\n",
    "    if i!=j:\n",
    "        print(i,j)"
   ]
  },
  {
   "cell_type": "code",
   "execution_count": null,
   "metadata": {},
   "outputs": [],
   "source": []
  }
 ],
 "metadata": {
  "kernelspec": {
   "display_name": "sudoku",
   "language": "python",
   "name": "sudoku"
  },
  "language_info": {
   "codemirror_mode": {
    "name": "ipython",
    "version": 3
   },
   "file_extension": ".py",
   "mimetype": "text/x-python",
   "name": "python",
   "nbconvert_exporter": "python",
   "pygments_lexer": "ipython3",
   "version": "3.6.7"
  }
 },
 "nbformat": 4,
 "nbformat_minor": 2
}
